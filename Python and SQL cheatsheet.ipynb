{
 "cells": [
  {
   "cell_type": "code",
   "execution_count": 1,
   "metadata": {},
   "outputs": [
    {
     "name": "stdout",
     "output_type": "stream",
     "text": [
      "7\n",
      "12.6\n"
     ]
    },
    {
     "data": {
      "text/plain": [
       "3"
      ]
     },
     "execution_count": 1,
     "metadata": {},
     "output_type": "execute_result"
    }
   ],
   "source": [
    "a = 3 \n",
    "b = 4\n",
    "c = \"heyyy\"\n",
    "print(a + b)\n",
    "#it does BODMAS\n",
    "print(a / 5 + b * 3)\n",
    "a"
   ]
  },
  {
   "cell_type": "code",
   "execution_count": 2,
   "metadata": {},
   "outputs": [
    {
     "name": "stdout",
     "output_type": "stream",
     "text": [
      "Please enter your password: wizzy\n",
      "wizzy\n"
     ]
    }
   ],
   "source": [
    "a = input(\"Please enter your password: \")\n",
    "print(a)\n"
   ]
  },
  {
   "cell_type": "code",
   "execution_count": 3,
   "metadata": {},
   "outputs": [
    {
     "name": "stdout",
     "output_type": "stream",
     "text": [
      "<class 'str'>\n",
      "True\n",
      "False <class 'bool'>\n"
     ]
    }
   ],
   "source": [
    "#casting:changing the data types e.g int(), str(), float()\n",
    "b = str(22)\n",
    "#data types; type()\n",
    "type(b)\n",
    "a = 22\n",
    "print(type(b))\n",
    "# Using negation with boolean values \n",
    "c = not True\n",
    "print(not c)\n",
    "#quick test\n",
    "d = bool(0)\n",
    "print( f\"{d} {type(d)}\")"
   ]
  },
  {
   "cell_type": "code",
   "execution_count": 4,
   "metadata": {},
   "outputs": [
    {
     "name": "stdout",
     "output_type": "stream",
     "text": [
      "9 hey \n",
      "free wiz 80.1 times\n"
     ]
    }
   ],
   "source": [
    "#format strings\n",
    "print(f\"{9} hey \")\n",
    "a = 80.1\n",
    "print(f\"free wiz {a} times\")"
   ]
  },
  {
   "cell_type": "code",
   "execution_count": 5,
   "metadata": {},
   "outputs": [
    {
     "name": "stdout",
     "output_type": "stream",
     "text": [
      "nice\n"
     ]
    }
   ],
   "source": [
    "#Conditions if, elseif(elif) and else \n",
    "# can have as many elif statements\n",
    "hours = 12\n",
    "if hours < 3:\n",
    "    print(\"invlaid\")\n",
    "elif hours == 12:\n",
    "    print(\"nice\")\n",
    "else:\n",
    "    print(\"valid\")"
   ]
  },
  {
   "cell_type": "code",
   "execution_count": 6,
   "metadata": {},
   "outputs": [
    {
     "name": "stdout",
     "output_type": "stream",
     "text": [
      "not healthy\n"
     ]
    }
   ],
   "source": [
    "#using 'and' AND 'or' for conditions\n",
    "no_slices = 20\n",
    "healthy = False\n",
    "age = 12\n",
    "if age > 12 or no_slices == 20 and healthy:\n",
    "    print(\"nice and healthy\")\n",
    "else:\n",
    "    print(\"not healthy\")"
   ]
  },
  {
   "cell_type": "code",
   "execution_count": 7,
   "metadata": {},
   "outputs": [
    {
     "name": "stdout",
     "output_type": "stream",
     "text": [
      "5\n",
      "-2\n"
     ]
    }
   ],
   "source": [
    "#Operators += -=\n",
    "count_1 = 2\n",
    "count_1 += 3\n",
    "print(count_1)\n",
    "count_2 = 3\n",
    "count_2 -= 5\n",
    "print(count_2)"
   ]
  },
  {
   "cell_type": "code",
   "execution_count": 11,
   "metadata": {},
   "outputs": [
    {
     "name": "stdout",
     "output_type": "stream",
     "text": [
      "4 count is not enough\n",
      "3 count is not enough\n"
     ]
    }
   ],
   "source": [
    "#While loop\n",
    "count_1 = 5\n",
    "while count_1 > 3:\n",
    "    count_1 -= 1\n",
    "    print(f\"{count_1} count is not enough\")"
   ]
  },
  {
   "cell_type": "code",
   "execution_count": 12,
   "metadata": {},
   "outputs": [
    {
     "name": "stdout",
     "output_type": "stream",
     "text": [
      "0 first loop\n",
      "1 first loop\n",
      "2 first loop\n"
     ]
    }
   ],
   "source": [
    "#For loop- range starts from the value 0 and loops until i = 3\n",
    "for i in range(3):\n",
    "    print(f\"{i} first loop\")"
   ]
  },
  {
   "cell_type": "code",
   "execution_count": 13,
   "metadata": {},
   "outputs": [
    {
     "name": "stdout",
     "output_type": "stream",
     "text": [
      "[1, 5, 43, 5]\n",
      "5\n",
      "[1, 5, 28, 5]\n",
      "[1, 5, 28, 5, 16]\n",
      "[1, 6, 5, 28, 5, 16]\n",
      "\n",
      "[1, 6, 5, 28, 5]\n",
      "[1, 6, 28, 5]\n",
      "5\n",
      "[1, 6, 28]\n",
      "2\n",
      "7\n",
      "29\n",
      "\n",
      "3\n",
      "4\n"
     ]
    }
   ],
   "source": [
    "#Lists\n",
    "array_1 =[1,5,43,5]\n",
    "print(array_1)\n",
    "print(array_1[1])\n",
    "#Replacing values in a list\n",
    "array_1[2] = 28\n",
    "print(array_1)\n",
    "#adding to the end of the list. append()\n",
    "array_1.append(16)\n",
    "print(array_1)\n",
    "\n",
    "#adding a value to a specfic point. insert(x,y)\n",
    "#values are shifted to the right after the index e.g after index 1\n",
    "array_1.insert(1,6)\n",
    "print(array_1)\n",
    "print(\"\")\n",
    "\n",
    "#removing the last item of the list \n",
    "array_1.pop()\n",
    "print(array_1)\n",
    "\n",
    "#removing the value in index 2 of the list\n",
    "array_1.pop(2)\n",
    "print(array_1)\n",
    "#can also be stored in a variable\n",
    "missing = array_1.pop()\n",
    "print(missing)\n",
    "print(array_1)\n",
    "\n",
    "#For loop for a list (normally use \"for\" for list rather than \"while\")\n",
    "for x in array_1:\n",
    "    print(x+1)\n",
    "print(\"\")\n",
    "#len() length of the list, number of elements\n",
    "total_length = len(array_1)\n",
    "print(total_length)\n",
    "#can be used for strings aswell\n",
    "a = \"sssd\"\n",
    "print(len(a))"
   ]
  },
  {
   "cell_type": "code",
   "execution_count": 14,
   "metadata": {},
   "outputs": [
    {
     "name": "stdout",
     "output_type": "stream",
     "text": [
      "56\n",
      "1\n",
      "\n",
      "\n",
      "[1, 2, 3, 3, 5, 56]\n",
      "\n",
      "\n",
      "['he', 'she', 'they']\n",
      "70\n",
      "\n",
      "\n",
      "[1, 2, 3, 3, 5, 56, 'he', 'she', 'they']\n",
      "\n",
      "\n",
      "2\n",
      "\n",
      "\n",
      "True\n"
     ]
    }
   ],
   "source": [
    "array_2 = [3,5,3,2,56,1]\n",
    "arr_3 = [\"he\",\"they\",\"she\"]\n",
    "# max() largest value in the array \n",
    "print(max(array_2))\n",
    "#min() smallest value in the array \n",
    "print(min(array_2))\n",
    "\n",
    "\n",
    "print(\"\\n\")\n",
    "#.sort() for sorting a list. YOU CANT DO x = array_2.sort(), the array already gets sorted\n",
    "array_2.sort()\n",
    "print(array_2)\n",
    "print(\"\\n\")\n",
    "\n",
    "#sort() for strings is alphabetical order\n",
    "arr_3.sort()\n",
    "print(arr_3)\n",
    "\n",
    "#sum(x) summation of the list \n",
    "print(sum(array_2))\n",
    "print(\"\\n\")\n",
    "\n",
    "# '+' can be used to join lists together\n",
    "print(array_2 + arr_3)\n",
    "print(\"\\n\")\n",
    "#count(x) number of times an element appears in a list\n",
    "print(array_2.count(3))\n",
    "print(\"\\n\")\n",
    "# Using 'in' finds out whether an element exists in a list or not\n",
    "query = 3 in array_2\n",
    "print(query)"
   ]
  },
  {
   "cell_type": "code",
   "execution_count": 15,
   "metadata": {},
   "outputs": [
    {
     "name": "stdout",
     "output_type": "stream",
     "text": [
      "['ann', 'sam', 'wiz']\n",
      "['one', 'two', 'three']\n",
      "four sam wiz\n"
     ]
    }
   ],
   "source": [
    "name = \"ann sam wiz\"\n",
    "#split() is used to spilt up a string\n",
    "#produces a list of strings \n",
    "names = name.split()\n",
    "print(names)\n",
    "\n",
    "#when can use a seprator in split() to split up the string aswell e.g \"-\"\n",
    "numbers = \"one-two-three\"\n",
    "print(numbers.split(\"-\"))\n",
    "\n",
    "# replace(old, new) replaces instances of the old value with new. the variable has to a string and not a list\n",
    "name = name.replace(\"ann\", \"four\")\n",
    "print(name)"
   ]
  },
  {
   "cell_type": "code",
   "execution_count": 16,
   "metadata": {},
   "outputs": [
    {
     "name": "stdout",
     "output_type": "stream",
     "text": [
      "<class 'str'>\n",
      "<class 'int'>\n",
      "True\n",
      "\n",
      "\n",
      "1\n",
      "True\n"
     ]
    }
   ],
   "source": [
    "#type(x) to find out the data type of the field\n",
    "#different casting int(), str(), float(), bool()\n",
    "\n",
    "\n",
    "age = \"14\"\n",
    "print(type(age))\n",
    "print(type(int(\"14\")))\n",
    "#bool() true when a string is not empty\n",
    "print(bool(age))\n",
    "print(\"\\n\")\n",
    "\n",
    "#int() doesnt round\n",
    "#1 = True and 0 = False for bool() and int()\n",
    "member = True\n",
    "value = int(member)\n",
    "print(value)\n",
    "print(bool(value))\n"
   ]
  },
  {
   "cell_type": "code",
   "execution_count": 17,
   "metadata": {},
   "outputs": [
    {
     "name": "stdout",
     "output_type": "stream",
     "text": [
      "{'cc', 'aa', 'bb'}\n"
     ]
    }
   ],
   "source": [
    "#set(x) gets rid of duplicates\n",
    "letter = [\"aa\", \"bb\", \"cc\", \"bb\"]\n",
    "letter_1 = set(letter)\n",
    "print(letter_1)"
   ]
  },
  {
   "cell_type": "code",
   "execution_count": 18,
   "metadata": {},
   "outputs": [
    {
     "name": "stdout",
     "output_type": "stream",
     "text": [
      "{'james': 25, 'stacey': 67}\n"
     ]
    }
   ],
   "source": [
    "#dict(x) Converts tuples to dictionary format\n",
    "letter = dict([(\"james\", 25), (\"stacey\", 67)])\n",
    "print(letter)"
   ]
  },
  {
   "cell_type": "code",
   "execution_count": 19,
   "metadata": {},
   "outputs": [
    {
     "name": "stdout",
     "output_type": "stream",
     "text": [
      "heyy\n"
     ]
    }
   ],
   "source": [
    "#FUNCTIONS simple function\n",
    "def greeting():\n",
    "    print(\"heyy\")\n",
    "    \n",
    "greeting()"
   ]
  },
  {
   "cell_type": "code",
   "execution_count": 20,
   "metadata": {},
   "outputs": [
    {
     "name": "stdout",
     "output_type": "stream",
     "text": [
      "henry\n"
     ]
    }
   ],
   "source": [
    "#Having parameters in a function\n",
    "def greeting_1(name):\n",
    "    print(name)\n",
    "    \n",
    "greeting_1(\"henry\")"
   ]
  },
  {
   "cell_type": "code",
   "execution_count": 21,
   "metadata": {},
   "outputs": [
    {
     "name": "stdout",
     "output_type": "stream",
     "text": [
      "8\n"
     ]
    }
   ],
   "source": [
    "#function with a return value\n",
    "# functions without a return value e.g x = greeting_1(2) -> None\n",
    "def greetings_2(age):\n",
    "    hello = 5 + age\n",
    "    return hello\n",
    "x = greetings_2(3)\n",
    "print(x)\n",
    "# functions like is_monday (starting with 'is') normally return as boolean \n",
    "\n",
    "#variables in functions are local \n",
    "#Every other variable is global including those in conditions and loops outside of variables"
   ]
  },
  {
   "cell_type": "code",
   "execution_count": 22,
   "metadata": {},
   "outputs": [
    {
     "name": "stdout",
     "output_type": "stream",
     "text": [
      "2\n",
      "3\n"
     ]
    }
   ],
   "source": [
    "#You can add lists to the input of a function \n",
    "def greetings_3(day):\n",
    "    print(len(day))\n",
    "    \n",
    "    \n",
    "greetings_3([\"hey\", \"lool\"])\n",
    "lol = [\"bye\", \"goodnight\", \"goodbye\"] \n",
    "greetings_3(lol)"
   ]
  },
  {
   "cell_type": "code",
   "execution_count": null,
   "metadata": {},
   "outputs": [],
   "source": [
    "#Tuples are a good way grouping data, that closely related\n",
    "#Tuples are immuteable, you cant change a tuple \n",
    "#Also can store tuples in lists\n",
    "a = (\"hey\", 2)\n",
    "b = [(\"lool\",4,5), (\"AS IN\", 6)]\n",
    "print(a)\n",
    "print(b)\n",
    "print(b[0][1])\n",
    "#A tuple counts as one element/value in a list \n",
    "print(len(b))\n",
    "#Tuples with one value have to end with a comma to be a tuple\n",
    "c = (\"okay\",)\n",
    "print(c)\n",
    "#You can access values in a tuple\n",
    "tuple_1 = (12,\"23\", True)\n",
    "print(tuple_1[2])"
   ]
  },
  {
   "cell_type": "code",
   "execution_count": null,
   "metadata": {},
   "outputs": [],
   "source": [
    "#return \"x, z\" returns a tuple from the comma\n",
    "#Good way of returning multiple values inside functions\n",
    "def get_tuple(x,y):\n",
    "    z = y + 1\n",
    "    return x, z\n",
    "get_tuple(6,7)"
   ]
  },
  {
   "cell_type": "code",
   "execution_count": null,
   "metadata": {},
   "outputs": [],
   "source": [
    "#dictionaires: associating a meaning to each value\n",
    "#keys : values\n",
    "#All keys have to be unique, and can only take one value\n",
    "locations = {\"height_1\": \"5ft\", \"height_2\": \"6ft\", \"height_3\": \"7ft\"}\n",
    "print(locations)\n",
    "\n",
    "#Keys can be any data type (including tuples), values can be any type (lists, tuples)\n",
    "locations_1 = {\"hei\": [1,3,\"ttt\"], \"oof\": \"6ft\", \"damn\": True, True: \"55\", (6,4): (\"dd\", 5)}\n",
    "print(locations_1)\n",
    "print(\"\\n\")\n",
    "\n",
    "# dictionary[key] = value \n",
    "print(locations_1[True])\n",
    "\n",
    "#loops through the keys then prints out the values and the key\n",
    "for location in locations_1:\n",
    "    print(locations_1[location])\n",
    "    print(location)\n",
    "\n",
    "#changing the value to a key\n",
    "locations_1[\"oof\"] = 22\n",
    "print(\"\\n\")\n",
    "print(locations_1)\n",
    "\n",
    "locations_2 = {\"hey\": 2}\n",
    "#adding a key and value to a dictonary\n",
    "locations_2[\"bye\"] = 3\n",
    "print(\"\\n\")\n",
    "print(locations_2)\n",
    "print(\"\\n\")\n",
    "\n",
    "#Checking to see the key \"good\" is in the dictionary\n",
    "print(\"good\" in locations_2)\n",
    "print(\"\\n\")\n",
    "\n",
    "#Removing a key and value pair in a dictionary using .pop(key)\n",
    "x = locations_2.pop(\"hey\")\n",
    "print(locations_2)\n",
    "# when removing a pair u can store the value of the pair in a variable\n",
    "print(x)"
   ]
  },
  {
   "cell_type": "code",
   "execution_count": null,
   "metadata": {},
   "outputs": [],
   "source": [
    "#sets are like lists but they do not dulicates (isnt displayed)\n",
    "numbers = {1,1,2}\n",
    "#duplicate is removed\n",
    "print(numbers)\n",
    "print(\"\\n\")\n",
    "# adding a value to a set\n",
    "numbers.add(\"lol\")\n",
    "print(numbers)\n",
    "print(\"\\n\")\n",
    "\n",
    "# you cant access values in a set using indices, as sets are unordered.\n",
    "#instead you can check if a value is in a set\n",
    "print(\"lol\" in numbers)\n",
    "\n",
    "#you can remove values in a set with remove()\n",
    "numbers.remove(\"lol\")\n",
    "print(\"\\n\")\n",
    "print(numbers)\n",
    "#set() removes duplicates in a list (casting)\n",
    "#list() can be used to make a set a list\n",
    "\n",
    "x = {1}\n",
    "print(\"\\n\")\n",
    "# issubset() checks to see if x is a subset of numbers\n",
    "print(x.issubset(numbers))\n",
    "\n",
    "\n",
    "y = {9,6,5}\n",
    "z = {9,8,3}\n",
    "#union() can be used join two sets\n",
    "# The \"x\" set doesnt change, a separate set is created\n",
    "print(\"\\n\")\n",
    "print(x.union(y))\n",
    "print(x)\n",
    "\n",
    "#intersection() checks the values that are common in both sets\n",
    "print(\"\\n\")\n",
    "print(y.intersection(z))\n",
    "\n",
    "#difference() - elements that are in \"y\" but not in \"z\"\n",
    "print(\"\\n\")\n",
    "print(y.difference(z))"
   ]
  },
  {
   "cell_type": "code",
   "execution_count": null,
   "metadata": {},
   "outputs": [],
   "source": [
    "#List comprehensions \n",
    "#An expression is apllied to each element (part before the loop)\n",
    "x = [1,3,5,5]\n",
    "y = [z/2 for z in x]\n",
    "t = [ z in [1,5] for z in x]\n",
    "s = [z < 2 for z in x]\n",
    "print(y)\n",
    "print(t)\n",
    "print(s)\n",
    "print(\"\\n\")\n",
    "#other data types\n",
    "\n",
    "i = [\"hey\", \"lool\", \"bye\"]\n",
    "l = [z for z in x]\n",
    "j = [len(z) for z in i]\n",
    "k = [z + \" wisdom\" for z in i]\n",
    "\n",
    "#copy of the list\n",
    "print(l)\n",
    "print(\"\\n\")\n",
    "print(j)\n",
    "print(k)"
   ]
  },
  {
   "cell_type": "code",
   "execution_count": null,
   "metadata": {},
   "outputs": [],
   "source": [
    "# Functions as expresions for list comprehensions\n",
    "#Only functions with a return value\n",
    "def calcul(num):\n",
    "    tt = num + 9\n",
    "    return tt * 3\n",
    "x = [7,5,3]\n",
    "y = [calcul(z) for z in x]\n",
    "print(y)"
   ]
  },
  {
   "cell_type": "code",
   "execution_count": null,
   "metadata": {},
   "outputs": [],
   "source": [
    "#if statements along with list comprehensions  (filtering)\n",
    "# Expression -> loop -> if statement\n",
    "x = [12,43,32,11]\n",
    "y = [calcul(z) for z in x if z > 14]\n",
    "print(y)"
   ]
  },
  {
   "cell_type": "code",
   "execution_count": null,
   "metadata": {},
   "outputs": [],
   "source": [
    "#negative indexing - retrieving elements from the right most side of a list\n",
    "#index -1 gives the last value of the list\n",
    "x = [9,4,32,3]\n",
    "y = x[-1]\n",
    "z = x[-2]\n",
    "print(y)\n",
    "print(z)\n",
    "# del deletes objects or items in data structures\n",
    "#you cannot save the deleted value in a variable \n",
    "del x[-1]\n",
    "print(x)"
   ]
  },
  {
   "cell_type": "code",
   "execution_count": null,
   "metadata": {},
   "outputs": [],
   "source": [
    "#Slice notation \n",
    "#list[start:stop] value in the stop index position is not included in the list\n",
    "#you can use negative numbers\n",
    "x = [7,34,54,67,2,1]\n",
    "print(x[1:2])\n",
    "print(x[2:])\n",
    "#errors in slice notation return a empty list\n",
    "print(x[3:1])\n",
    "print(\"\\n\")\n",
    "#Also list[start:stop:step]\n",
    "#e.g returning every second value\n",
    "print(x[0:5:2])\n",
    "print(x[::3])\n",
    "print(\"\\n\")\n",
    "#A negative step goes backwards in a list\n",
    "print(x[5::-2])\n"
   ]
  },
  {
   "cell_type": "code",
   "execution_count": null,
   "metadata": {},
   "outputs": [],
   "source": [
    "#CLASSES (in python a class is an object)\n",
    "class Person:\n",
    "    hair = \"long\"\n",
    "    length = 4\n",
    "#Example of an instance \n",
    "person_a = Person()\n",
    "#accesing the class variables\n",
    "print(person_a.hair)"
   ]
  },
  {
   "cell_type": "code",
   "execution_count": null,
   "metadata": {},
   "outputs": [],
   "source": [
    "#Functions in classes are called methods\n",
    "#each method should have 'self' in the parameters first. (To access the class variables)\n",
    "class Drinks:\n",
    "    color = \"red\"\n",
    "    \n",
    "    def reaction(self):\n",
    "        print(\"nicee \" + self.color)\n",
    "        #Accessing the class variable\n",
    "        print(self.color)\n",
    "        \n",
    "fanta = Drinks()\n",
    "fanta.reaction()"
   ]
  },
  {
   "cell_type": "code",
   "execution_count": null,
   "metadata": {},
   "outputs": [],
   "source": [
    "#Constructors \n",
    "class Age:\n",
    "    #constructor method: allows you to set unique values for class variables for instances\n",
    "    def __init__(self, month, number):\n",
    "        self.month = month\n",
    "        self.number = number\n",
    "        self.hey = len(number)\n",
    "    \n",
    "    def display_numbers(self):\n",
    "        for i in self.number:\n",
    "            print(f\"{i} is captureed {self.hey}\")\n",
    "\n",
    "\n",
    "ben = Age(\"Jan\", [1,3,2,2])\n",
    "wiz = Age(\"Feb\", [2,5,3])\n",
    "print(ben.month)\n",
    "\n",
    "ben.display_numbers()"
   ]
  },
  {
   "cell_type": "code",
   "execution_count": null,
   "metadata": {},
   "outputs": [],
   "source": [
    "#Paradigms are different styles of coding \n",
    "#Functional programming style, keeps data and functionality seperate \n",
    "#Object orientated programming - OOP, group data and functionality as properties and methods inside objects\n",
    "\n",
    "    #Encapsulation - grouping together related data and functions in the same object."
   ]
  },
  {
   "cell_type": "code",
   "execution_count": null,
   "metadata": {},
   "outputs": [],
   "source": [
    "#Inheritence - A class inheriting the functionality of another class\n",
    "#Simple example\n",
    "class one:\n",
    "    def three(self):\n",
    "        print(\"3\")\n",
    "#Place the parent class inside the brackets \n",
    "class two(one):\n",
    "    def four(self):\n",
    "        print(\"4\")\n",
    "\n",
    "h = two()\n",
    "h.three()\n",
    "h.four()"
   ]
  },
  {
   "cell_type": "code",
   "execution_count": null,
   "metadata": {},
   "outputs": [],
   "source": [
    "#Inheritence - A class inheriting the functionality of another class\n",
    "\n",
    "class Person:\n",
    "    def __init__(self, name, age):\n",
    "        self.name = name\n",
    "        self.age = age\n",
    "        self.future = age + 10\n",
    "        \n",
    "    def how_old(self):\n",
    "        print(self.name + str(self.age))\n",
    "\n",
    "        #Place the parent class inside the brackets \n",
    "class Student(Person):\n",
    "    def __init__(self, name, age, major):\n",
    "        #making sure it has the same propertites as the parent, gets the same constructor\n",
    "        super().__init__(name, age)\n",
    "        self.major = major\n",
    "        \n",
    "    def subject(self):\n",
    "        print(\"\\n\")\n",
    "        print(self.name)\n",
    "        print(self.major)\n",
    "        \n",
    "henry = Student(\"henry\", 16, \"Maths\")\n",
    "print(henry.future)\n",
    "henry.how_old()\n",
    "henry.subject()"
   ]
  },
  {
   "cell_type": "code",
   "execution_count": null,
   "metadata": {},
   "outputs": [],
   "source": [
    "#Abstraction allow other developers to use a class without having to know the low-level methods it has\n",
    "#Simplifying how we interact with objects down to a few methods\n",
    "\n",
    "class Juicemaker:\n",
    "    \n",
    "    def buy_juice(self):\n",
    "        print(\"jucie has been bought\")\n",
    "        \n",
    "    def add_water(self):\n",
    "        print(\"Water has been added\")\n",
    "        \n",
    "    #This is where the abstraction takes place, in this example this method, contains the other two methods of the class\n",
    "    def make_juice(self):\n",
    "        self.buy_juice()\n",
    "        self.add_water()\n",
    "\n",
    "\n",
    "a = Juicemaker()\n",
    "a.make_juice()"
   ]
  },
  {
   "cell_type": "code",
   "execution_count": null,
   "metadata": {},
   "outputs": [],
   "source": [
    "#Polymorphism - different behaviours of methods (overriding certain methods)\n",
    "#by setting the same method name in the sub class\n",
    "\n",
    "class height:\n",
    "    def he(self):\n",
    "        print(\"i'm tall\")\n",
    "        \n",
    "class height_1(height):\n",
    "    def she(self):\n",
    "        print(\"hey\")\n",
    "\n",
    "        #Polymorphism here same method name different code\n",
    "class height_2(height):\n",
    "    def he(self):\n",
    "        print(\"im short\")\n",
    "#Proven here\n",
    "h = height_1()\n",
    "h.he()\n",
    "t = height_2()\n",
    "t.he()"
   ]
  },
  {
   "cell_type": "code",
   "execution_count": null,
   "metadata": {},
   "outputs": [],
   "source": [
    "#Importing modules\n",
    "#Modules group related classes and data and make them accessible from one place\n",
    "#Some modules are built in python, just like 'math'\n",
    "#Module name, then  variable or method ()\n",
    "import math\n",
    "print(math.pi)\n",
    "\n",
    "#IMPORTANT - help(module name) gives information (functionality)on the module, the data and functions\n",
    "help(math)"
   ]
  },
  {
   "cell_type": "code",
   "execution_count": null,
   "metadata": {},
   "outputs": [],
   "source": [
    "#Importing multiple modules \n",
    "import math, statistics"
   ]
  },
  {
   "cell_type": "code",
   "execution_count": null,
   "metadata": {},
   "outputs": [],
   "source": [
    "#Extracting the functionality we only care about\n",
    "from math import pi\n",
    "print(pi)\n",
    "\n",
    "#Extracting the functionality we only care about\n",
    "from statistics import mean\n",
    "a = [3,4,2]\n",
    "\n",
    "result = mean(a)\n",
    "print(result)"
   ]
  },
  {
   "cell_type": "code",
   "execution_count": null,
   "metadata": {},
   "outputs": [],
   "source": [
    "#You can also rename the module\n",
    "#This is called aliasing\n",
    "import statistics as stats\n",
    "a = [3,4,2]\n",
    "\n",
    "result = stats.mean(a)\n",
    "print(result)"
   ]
  },
  {
   "cell_type": "code",
   "execution_count": null,
   "metadata": {},
   "outputs": [],
   "source": [
    "#Syntax error - generally typos \n",
    "    #Indentation errors "
   ]
  },
  {
   "cell_type": "code",
   "execution_count": null,
   "metadata": {},
   "outputs": [],
   "source": [
    "#The traceback from errors is best read bottom to top"
   ]
  },
  {
   "cell_type": "code",
   "execution_count": null,
   "metadata": {},
   "outputs": [],
   "source": [
    "#Producing manual errors \n",
    "    #you can use other types of errors aswell\n",
    "a = 1\n",
    "if a == 1:\n",
    "    raise ValueError(\"your ugly fam\")"
   ]
  },
  {
   "cell_type": "code",
   "execution_count": null,
   "metadata": {},
   "outputs": [],
   "source": [
    "# try and except are used for exception handling\n",
    "try:\n",
    "    #this should produce an error\n",
    "    print(12 / 0)\n",
    "except:\n",
    "    #however this is printed\n",
    "    print(\"hey\")"
   ]
  },
  {
   "cell_type": "code",
   "execution_count": null,
   "metadata": {},
   "outputs": [],
   "source": [
    "#'pass' can be used in a block o code if we want nothing to be executed \n",
    "a = 0\n",
    "if a == 1:\n",
    "    print(\"hey\")\n",
    "else:\n",
    "    pass \n",
    "    \n"
   ]
  },
  {
   "cell_type": "code",
   "execution_count": null,
   "metadata": {},
   "outputs": [],
   "source": [
    "try:\n",
    "    1 + 1\n",
    "except:\n",
    "    print(\"hey\")\n",
    "#else statement can be used when there are no errors    \n",
    "else:\n",
    "    print(\"lol\")\n",
    "\n",
    "#statement at the end that exceutes code no matter whether a error occurs or not\n",
    "finally:\n",
    "    print(\"again\")"
   ]
  },
  {
   "cell_type": "code",
   "execution_count": null,
   "metadata": {},
   "outputs": [],
   "source": [
    "x = [12,33,45]\n",
    "[t /2 for t in x]"
   ]
  },
  {
   "cell_type": "code",
   "execution_count": null,
   "metadata": {},
   "outputs": [],
   "source": [
    "try: \n",
    "    x = 1\n",
    "    print(5 / 0)\n",
    "except: \n",
    "    print(\"lol\")"
   ]
  },
  {
   "cell_type": "code",
   "execution_count": null,
   "metadata": {},
   "outputs": [],
   "source": [
    "x = input(\"Please enter your name: \")\n",
    "y = input(\"Male or Female: \")\n",
    "z = int(input(\"What's your height: \"))\n",
    "print(f\"{x} Thank you for entering your details\")\n",
    "#if \"j\" in x or \"f\" in x:\n",
    "    #print(\"your name meets the criteria\")\n",
    "#else:\n",
    "    #print(\"Your name does not meet the requirements\")\n"
   ]
  },
  {
   "cell_type": "code",
   "execution_count": null,
   "metadata": {},
   "outputs": [],
   "source": [
    "class Forum:\n",
    "    def test(self):\n",
    "        t = input()\n",
    "        s = input()\n",
    "        r = int(input())\n",
    "        ww = [t,s,r]\n",
    "        return ww\n",
    "        \n",
    "    def checkage(self, height):\n",
    "        if height > 21:\n",
    "            print(\"Valid height\")\n",
    "        else:\n",
    "            print(\"You are too small\")\n",
    "    \n",
    "    def checkname(self, name):\n",
    "        if \"j\" in name or \"f\" in name:\n",
    "            print(\"your name meets the criteria\")\n",
    "        else:\n",
    "            print(\"Your name does not meet the requirements\")\n",
    "        \n",
    "\n",
    "    def checkgender(self, gender):\n",
    "        if gender == \"male\" or gender == \"Male\":\n",
    "            print(\"You are suitable for the role\")\n",
    "        else: \n",
    "            print(\"You are not suited to the role\")\n",
    "            \n",
    "    def allchecks(self, x, y, z):\n",
    "        self.checkage(z)\n",
    "        self.checkname(x)\n",
    "        self.checkgender(y)\n",
    "        \n",
    "\n",
    "a = Forum() \n",
    "a.allchecks(x, y, z)\n",
    "b = Forum()\n",
    "c = b.test()\n",
    "b.allchecks(c[0], c[1], c[2])\n",
    "#checkname(x)\n",
    "#checkage(z)\n",
    "#checkgender(y)"
   ]
  },
  {
   "cell_type": "code",
   "execution_count": null,
   "metadata": {},
   "outputs": [],
   "source": [
    "class Forum:\n",
    "    def __init__(self, t, s, r):\n",
    "        self.t = t\n",
    "        self.s = s\n",
    "        self.r = r\n",
    "        \n",
    "    def checkage(self):\n",
    "        if self.t > 21:\n",
    "            print(\"Valid height\")\n",
    "        else:\n",
    "            print(\"You are too small\")\n",
    "    \n",
    "    def checkname(self):\n",
    "        if \"j\" in self.s or \"f\" in self.s:\n",
    "            print(\"your name meets the criteria\")\n",
    "        else:\n",
    "            print(\"Your name does not meet the requirements\")\n",
    "        \n",
    "\n",
    "    def checkgender(self):\n",
    "        if self.r == \"male\" or self.r == \"Male\":\n",
    "            print(\"You are suitable for the role\")\n",
    "        else: \n",
    "            print(\"You are not suited to the role\")\n",
    "            \n",
    "    def allchecks(self):\n",
    "        self.checkage()\n",
    "        self.checkname()\n",
    "        self.checkgender()\n",
    "        \n",
    "a = Forum(int(input(\"Please enter your height: \")), input(\"Please enter your name: \"), input(\"Enter your gender: \"))\n",
    "print(\"\\n\")\n",
    "a.allchecks()\n",
    "        "
   ]
  },
  {
   "cell_type": "code",
   "execution_count": null,
   "metadata": {},
   "outputs": [],
   "source": [
    "#British airways seats\n",
    "#Login page for gravity "
   ]
  },
  {
   "cell_type": "code",
   "execution_count": null,
   "metadata": {},
   "outputs": [],
   "source": [
    "\n",
    "username = input(\"Enter an username: \")\n",
    "password = input(\"Enter an password: \")\n",
    "\n",
    "e_password = hash(password)\n",
    "\n",
    "print(\"Enter your login details\")\n",
    "c_username = input(\"Enter your username: \")\n",
    "c_password = input(\"Enter your password: \")\n",
    "\n",
    "cc_password = hash(c_password)\n",
    "if e_password == cc_password:\n",
    "        print(\"correct password\")\n",
    "else:\n",
    "    print(\"incorrect password: \")\n"
   ]
  },
  {
   "cell_type": "code",
   "execution_count": null,
   "metadata": {},
   "outputs": [],
   "source": [
    "#lambda, expressions \n",
    "x = lambda a : a + 10 \n",
    "print(x(5))"
   ]
  },
  {
   "cell_type": "code",
   "execution_count": null,
   "metadata": {},
   "outputs": [],
   "source": [
    "def myfunc(n):\n",
    "    return lambda a : a * n\n",
    "\n",
    "mydoubler = myfunc(3)\n",
    "\n",
    "print(mydoubler(11))"
   ]
  },
  {
   "cell_type": "code",
   "execution_count": null,
   "metadata": {},
   "outputs": [],
   "source": [
    "import pandas as pd \n",
    "import sqlite3"
   ]
  },
  {
   "cell_type": "code",
   "execution_count": null,
   "metadata": {},
   "outputs": [],
   "source": [
    "!pip install ipython-sql"
   ]
  },
  {
   "cell_type": "code",
   "execution_count": null,
   "metadata": {},
   "outputs": [],
   "source": [
    "#I had added the ID field later on, previous examples dont contain ID except from the JOIN examples Previous table\n",
    "#Was called Peoples\n",
    "dt = pd.DataFrame({ 'ID' : [1,2,3],\n",
    "                 'name': ['wisdom', 'kings', 'jenny'],\n",
    "                 'age' : [22,30,21],\n",
    "                 'city' : ['London', 'Lagos', 'London']})\n",
    "\n",
    "dt"
   ]
  },
  {
   "cell_type": "code",
   "execution_count": null,
   "metadata": {},
   "outputs": [],
   "source": [
    "cnn = sqlite3.connect('jupyter_sql_tutorial.db')"
   ]
  },
  {
   "cell_type": "code",
   "execution_count": null,
   "metadata": {},
   "outputs": [],
   "source": [
    "dt.to_sql('Info', cnn)"
   ]
  },
  {
   "cell_type": "code",
   "execution_count": null,
   "metadata": {},
   "outputs": [],
   "source": [
    "%load_ext sql"
   ]
  },
  {
   "cell_type": "code",
   "execution_count": null,
   "metadata": {},
   "outputs": [],
   "source": [
    "%sql sqlite:///jupyter_sql_tutorial.db"
   ]
  },
  {
   "cell_type": "code",
   "execution_count": null,
   "metadata": {},
   "outputs": [],
   "source": [
    "\n",
    "%%sql\n",
    "--selects all columns (including id/index) \n",
    "SELECT *\n",
    "FROM Peoples;"
   ]
  },
  {
   "cell_type": "code",
   "execution_count": null,
   "metadata": {},
   "outputs": [],
   "source": [
    "%%sql\n",
    "--selects two columns (city and name)\n",
    "SELECT name, city\n",
    "FROM Peoples;"
   ]
  },
  {
   "cell_type": "code",
   "execution_count": null,
   "metadata": {},
   "outputs": [],
   "source": [
    "%%sql\n",
    "--DISTINCT removes duplicates. selects a column and removes the duplicates\n",
    "SELECT DISTINCT city\n",
    "FROM Peoples;"
   ]
  },
  {
   "cell_type": "code",
   "execution_count": null,
   "metadata": {},
   "outputs": [],
   "source": [
    "%%sql\n",
    "-- 'order by' orders the table, in this case by name\n",
    "SELECT *\n",
    "FROM Peoples\n",
    "ORDER BY name"
   ]
  },
  {
   "cell_type": "code",
   "execution_count": null,
   "metadata": {},
   "outputs": [],
   "source": [
    "%%sql \n",
    "-- ordering items numerically is automatically ascending like in the example above (ASC). This example will be descending (DESC)\n",
    "SELECT *\n",
    "FROM Peoples\n",
    "ORDER BY age DESC;"
   ]
  },
  {
   "cell_type": "code",
   "execution_count": null,
   "metadata": {},
   "outputs": [],
   "source": [
    "%%sql \n",
    "--Filtering data with 'Where'. Column name = data value \n",
    "SELECT *\n",
    "FROM Peoples\n",
    "Where city = 'London'"
   ]
  },
  {
   "cell_type": "code",
   "execution_count": null,
   "metadata": {},
   "outputs": [],
   "source": [
    "%%sql\n",
    "-- <> not equal in sql, In this example it shows items if the age does not equal 22 (inequality operator)\n",
    "\n",
    "SELECT *\n",
    "FROM Peoples\n",
    "WHERE AGE <> 22"
   ]
  },
  {
   "cell_type": "code",
   "execution_count": null,
   "metadata": {},
   "outputs": [],
   "source": [
    "%%sql\n",
    "-- other operators can be used aswell >, <, <=, >=\n",
    "\n",
    "SELECT *\n",
    "FROM Peoples\n",
    "WHERE AGE <= 22"
   ]
  },
  {
   "cell_type": "code",
   "execution_count": null,
   "metadata": {},
   "outputs": [],
   "source": [
    "%%sql\n",
    "-- BETWEEN is used to check if a value is within a range, the ranges include its borders (inclusive). Mainly for integers\n",
    "\n",
    "SELECT *\n",
    "FROM Peoples\n",
    "WHERE age BETWEEN 12 AND 22"
   ]
  },
  {
   "cell_type": "code",
   "execution_count": null,
   "metadata": {},
   "outputs": [],
   "source": [
    "%%sql\n",
    "/* LIKE keyword checks whether a value is in a column (only text). \n",
    "Using patterns. This example gets items with where the city starts with La (follwing the percentage sign) */\n",
    "\n",
    "SELECT *\n",
    "FROM Peoples\n",
    "WHERE city LIKE 'La%'\n",
    "\n"
   ]
  },
  {
   "cell_type": "code",
   "execution_count": null,
   "metadata": {},
   "outputs": [],
   "source": [
    "%%sql\n",
    "/* LIKE keyword checks whether a value is in a column (only text). \n",
    "Using patterns. This example gets items with where the name ends with s (after the percentage sign) */\n",
    "\n",
    "SELECT *\n",
    "FROM Peoples\n",
    "WHERE name LIKE '%s'"
   ]
  },
  {
   "cell_type": "code",
   "execution_count": null,
   "metadata": {},
   "outputs": [],
   "source": [
    "%%sql\n",
    "/* LIKE keyword checks whether a value is in a column (only text). \n",
    "Using patterns. This example gets items  where the city contains the value 'on' ( percentage sign before and after) */\n",
    "\n",
    "SELECT *\n",
    "FROM Peoples\n",
    "WHERE city LIKE '%on%'\n",
    "ORDER BY name DESC"
   ]
  },
  {
   "cell_type": "code",
   "execution_count": null,
   "metadata": {},
   "outputs": [],
   "source": [
    "%%sql\n",
    "/* IN keyword is used to specify options when filtering (brackets is used)\n",
    "Works like an OR function, numbers can used with IN aswell*/\n",
    "\n",
    "SELECT *\n",
    "FROM Peoples\n",
    "WHERE name IN('wisdom', 'kings')\n",
    "ORDER BY city DESC;"
   ]
  },
  {
   "cell_type": "code",
   "execution_count": null,
   "metadata": {},
   "outputs": [],
   "source": [
    "%%sql\n",
    "/* AND Keyword (does not have to be in a new line)*/\n",
    "\n",
    "SELECT *\n",
    "FROM Peoples\n",
    "WHERE city = 'London' \n",
    "AND age >= 22;\n"
   ]
  },
  {
   "cell_type": "code",
   "execution_count": null,
   "metadata": {},
   "outputs": [],
   "source": [
    "%%sql\n",
    "/* OR Keyword (does not have to be in a new line)*/\n",
    "\n",
    "SELECT *\n",
    "FROM Peoples\n",
    "WHERE city = 'London' \n",
    "OR age >= 22;"
   ]
  },
  {
   "cell_type": "code",
   "execution_count": null,
   "metadata": {},
   "outputs": [],
   "source": [
    "%%sql\n",
    "/* NOT Keyword (NOT is mainly used with IN, BETWEEN and LIKE)\n",
    "In this example brings out items that city does not contain 's'*/\n",
    "\n",
    "SELECT *\n",
    "FROM Peoples\n",
    "WHERE city NOT LIKE '%S%'; \n"
   ]
  },
  {
   "cell_type": "code",
   "execution_count": null,
   "metadata": {},
   "outputs": [],
   "source": [
    "%%sql\n",
    "/*Aliasing - assigning temporary names to column names (Doesnt change in the orginal table)\n",
    "AS keyword is for this\n",
    "This example name is changed to 'user'*/\n",
    "\n",
    "SELECT name AS user\n",
    "FROM Peoples\n",
    "WHERE city = 'London' \n",
    "OR age >= 22;"
   ]
  },
  {
   "cell_type": "code",
   "execution_count": null,
   "metadata": {},
   "outputs": [],
   "source": [
    "%%sql\n",
    "/*Aliasing - More Aliasing with mutliple columns*/\n",
    "\n",
    "SELECT name AS user, age, city AS town\n",
    "FROM Peoples\n",
    "WHERE city = 'London' \n",
    "OR age >= 22;"
   ]
  },
  {
   "cell_type": "code",
   "execution_count": null,
   "metadata": {},
   "outputs": [],
   "source": [
    "%%sql\n",
    "/*MIN(column name) smallest value\n",
    "MAX(column name) Largest value\n",
    "These functions are aggregate functions */\n",
    "\n",
    "SELECT MIN(age)\n",
    "FROM Peoples\n",
    "WHERE name IN('wisdom', 'kings')"
   ]
  },
  {
   "cell_type": "code",
   "execution_count": null,
   "metadata": {},
   "outputs": [],
   "source": [
    "%%sql\n",
    "/*AVG() average aggregate functions */\n",
    "\n",
    "SELECT AVG(age) AS Average_age\n",
    "FROM Peoples\n",
    "WHERE name IN('wisdom', 'kings')"
   ]
  },
  {
   "cell_type": "code",
   "execution_count": null,
   "metadata": {},
   "outputs": [],
   "source": [
    "%%sql\n",
    "/*COUNT() - How many items we have in a table ()\n",
    "Can also use * in the brackets\n",
    "when puting column names in the bracket it doesnt count for empty table cells*/\n",
    "\n",
    "SELECT COUNT(price)\n",
    "FROM Peoples\n"
   ]
  },
  {
   "cell_type": "code",
   "execution_count": null,
   "metadata": {},
   "outputs": [],
   "source": [
    "%%sql\n",
    "/*COUNT() - How many items/values we have in a table ()\n",
    "Can remove duplicates with DISTINCT */\n",
    "\n",
    "SELECT COUNT(DISTINCT city)\n",
    "FROM Peoples\n",
    "\n"
   ]
  },
  {
   "cell_type": "code",
   "execution_count": null,
   "metadata": {},
   "outputs": [],
   "source": [
    "%%sql\n",
    "/*SUM() - sums up all the values selected\n",
    "Can remove duplicates with DISTINCT */\n",
    "\n",
    "SELECT SUM(age)\n",
    "FROM Peoples"
   ]
  },
  {
   "cell_type": "code",
   "execution_count": null,
   "metadata": {},
   "outputs": [],
   "source": [
    "%%sql\n",
    "/*GROUP BY - groups the results by value  */\n",
    "\n",
    "SELECT city, COUNT(*)\n",
    "FROM Peoples\n",
    "GROUP BY city;\n"
   ]
  },
  {
   "cell_type": "code",
   "execution_count": null,
   "metadata": {},
   "outputs": [],
   "source": [
    "%%sql\n",
    "/*GROUP BY - groups the results by value  */\n",
    "\n",
    "SELECT city, SUM(age)\n",
    "FROM Peoples\n",
    "GROUP BY city;"
   ]
  },
  {
   "cell_type": "code",
   "execution_count": null,
   "metadata": {},
   "outputs": [],
   "source": [
    "%%sql\n",
    "/*HAVING keyword - Filtering out groups\n",
    "This example selects groups with more > 30 age \n",
    "can use any condition with HAVING*/\n",
    "\n",
    "SELECT city, SUM(age)\n",
    "FROM Peoples\n",
    "GROUP BY city\n",
    "HAVING SUM(age) > 30;"
   ]
  },
  {
   "cell_type": "code",
   "execution_count": null,
   "metadata": {},
   "outputs": [],
   "source": [
    "ds = pd.DataFrame({'ID': [1, 2, 3],\n",
    "                 'race' : ['black', 'white' ,'mixed'],\n",
    "                 })\n",
    "\n",
    "ds\n",
    "ds.to_sql('Race', cnn)"
   ]
  },
  {
   "cell_type": "code",
   "execution_count": null,
   "metadata": {},
   "outputs": [],
   "source": [
    "%%sql\n",
    "/* JOIN keyword - JOIN is used to merge two tables together\n",
    "JOIN is short for INNER JOIN\n",
    "ON keyword - is used to make a condition of (joining tables) how the rows should match by different tables\n",
    "If some rows dont match it wont appear\n",
    "*/\n",
    "\n",
    "SELECT *\n",
    "FROM Info\n",
    "JOIN race\n",
    "ON info.id = race.id;\n"
   ]
  },
  {
   "cell_type": "code",
   "execution_count": null,
   "metadata": {},
   "outputs": [],
   "source": [
    "%%sql\n",
    "/* You can use different fields in the ON condition\n",
    "in this case it produces no results.\n",
    "*/\n",
    "\n",
    "SELECT *\n",
    "FROM Info\n",
    "JOIN race\n",
    "ON info.age = race.id;"
   ]
  },
  {
   "cell_type": "code",
   "execution_count": null,
   "metadata": {},
   "outputs": [],
   "source": [
    "%%sql\n",
    "/* Example changing the SELECT statement \n",
    "*/\n",
    "\n",
    "SELECT Info.name, race.race\n",
    "FROM Info\n",
    "JOIN race\n",
    "ON info.id = race.id;"
   ]
  },
  {
   "cell_type": "code",
   "execution_count": null,
   "metadata": {},
   "outputs": [],
   "source": [
    "%%sql\n",
    "/* you can alias table names \n",
    "*/\n",
    "\n",
    "SELECT i.name, r.race\n",
    "FROM Info AS i\n",
    "JOIN race AS r\n",
    "ON i.id = r.id;"
   ]
  },
  {
   "cell_type": "code",
   "execution_count": null,
   "metadata": {},
   "outputs": [],
   "source": [
    "#New table to show the effect of the LEFT JOIN\n",
    "dr = pd.DataFrame({'ID': [1, 2, 3, 4],\n",
    "                 'travel' : ['car', 'train' ,'plane', 'bike'],\n",
    "                 })\n",
    "\n",
    "dr\n",
    "dr.to_sql('travels', cnn)\n"
   ]
  },
  {
   "cell_type": "code",
   "execution_count": null,
   "metadata": {},
   "outputs": [],
   "source": [
    "%%sql \n",
    "/* LEFT JOIN - keyword gets matching rows from the first table but also displays the rows that dont match from the\n",
    "first table\n",
    "*/\n",
    "SELECT *\n",
    "FROM travels \n",
    "LEFT JOIN info\n",
    "ON travels.id = info.id"
   ]
  },
  {
   "cell_type": "code",
   "execution_count": null,
   "metadata": {},
   "outputs": [],
   "source": [
    "%%sql\n",
    "/* Subqueries - using agregrate functions\n",
    "average age is used in the where condition\n",
    "Have to use brackets \n",
    "*/\n",
    "\n",
    "SELECT *\n",
    "FROM info\n",
    "WHERE age < \n",
    "(\n",
    "    SELECT AVG(age)\n",
    "    FROM info\n",
    "\n",
    ");\n"
   ]
  },
  {
   "cell_type": "code",
   "execution_count": null,
   "metadata": {},
   "outputs": [],
   "source": [
    "%%sql\n",
    "/* Sub queries can also be used in mutliple tables \n",
    "\n",
    "Subqueries - using agregrate functions\n",
    "average age is used in the where condition\n",
    "Have to use brackets \n",
    "*/\n",
    "\n",
    "SELECT *\n",
    "FROM info\n",
    "WHERE age > \n",
    "(\n",
    "    SELECT AVG(id)\n",
    "    FROM travels\n",
    "    \n",
    "\n",
    ");"
   ]
  },
  {
   "cell_type": "code",
   "execution_count": null,
   "metadata": {},
   "outputs": [],
   "source": [
    "%%sql\n",
    "/* Subqueries - using IN Keyword\n",
    "\n",
    "Have to use brackets \n",
    "*/\n",
    "\n",
    "SELECT *\n",
    "FROM info\n",
    "WHERE age < \n",
    "(\n",
    "    SELECT AVG(age)\n",
    "    FROM info\n",
    "\n",
    ");"
   ]
  }
 ],
 "metadata": {
  "kernelspec": {
   "display_name": "Python 3",
   "language": "python",
   "name": "python3"
  },
  "language_info": {
   "codemirror_mode": {
    "name": "ipython",
    "version": 3
   },
   "file_extension": ".py",
   "mimetype": "text/x-python",
   "name": "python",
   "nbconvert_exporter": "python",
   "pygments_lexer": "ipython3",
   "version": "3.8.3"
  }
 },
 "nbformat": 4,
 "nbformat_minor": 4
}
